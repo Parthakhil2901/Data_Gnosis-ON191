{
 "cells": [
  {
   "cell_type": "code",
   "execution_count": 1,
   "id": "0d951788",
   "metadata": {},
   "outputs": [
    {
     "name": "stdout",
     "output_type": "stream",
     "text": [
      "Initialized empty Git repository in C:/Users/3515/AndroidStudioProjects/src/Explorative_analysis/Chatbot/.git/\n"
     ]
    }
   ],
   "source": [
    "!git init Chatbot"
   ]
  },
  {
   "cell_type": "code",
   "execution_count": 2,
   "id": "bea0c2a5",
   "metadata": {},
   "outputs": [
    {
     "name": "stdout",
     "output_type": "stream",
     "text": [
      "C:\\Users\\3515\\AndroidStudioProjects\\src\\Explorative_analysis\\Chatbot\n"
     ]
    }
   ],
   "source": [
    "%cd Chatbot/"
   ]
  },
  {
   "cell_type": "code",
   "execution_count": 3,
   "id": "ddf6796d",
   "metadata": {},
   "outputs": [
    {
     "name": "stdout",
     "output_type": "stream",
     "text": [
      " Volume in drive C is OS"
     ]
    },
    {
     "name": "stderr",
     "output_type": "stream",
     "text": [
      "File Not Found\n"
     ]
    },
    {
     "name": "stdout",
     "output_type": "stream",
     "text": [
      "\n",
      " Volume Serial Number is 124A-3EED\n",
      "\n",
      " Directory of C:\\Users\\3515\\AndroidStudioProjects\\src\\Explorative_analysis\\Chatbot\n",
      "\n"
     ]
    }
   ],
   "source": [
    "%ls -a"
   ]
  },
  {
   "cell_type": "code",
   "execution_count": null,
   "id": "e39ed7f1",
   "metadata": {},
   "outputs": [],
   "source": []
  }
 ],
 "metadata": {
  "kernelspec": {
   "display_name": "Python 3 (ipykernel)",
   "language": "python",
   "name": "python3"
  },
  "language_info": {
   "codemirror_mode": {
    "name": "ipython",
    "version": 3
   },
   "file_extension": ".py",
   "mimetype": "text/x-python",
   "name": "python",
   "nbconvert_exporter": "python",
   "pygments_lexer": "ipython3",
   "version": "3.10.7"
  }
 },
 "nbformat": 4,
 "nbformat_minor": 5
}
